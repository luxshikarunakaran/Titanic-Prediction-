{
  "nbformat": 4,
  "nbformat_minor": 0,
  "metadata": {
    "colab": {
      "provenance": []
    },
    "kernelspec": {
      "name": "python3",
      "display_name": "Python 3"
    },
    "language_info": {
      "name": "python"
    }
  },
  "cells": [
    {
      "cell_type": "code",
      "execution_count": 30,
      "metadata": {
        "colab": {
          "base_uri": "https://localhost:8080/"
        },
        "id": "-YpcBnqF4eOC",
        "outputId": "f4b3cf0b-a614-421b-b504-2681a6b373de"
      },
      "outputs": [
        {
          "output_type": "stream",
          "name": "stderr",
          "text": [
            "<ipython-input-30-cf8d03612b48>:28: SettingWithCopyWarning: \n",
            "A value is trying to be set on a copy of a slice from a DataFrame\n",
            "\n",
            "See the caveats in the documentation: https://pandas.pydata.org/pandas-docs/stable/user_guide/indexing.html#returning-a-view-versus-a-copy\n",
            "  train_data_encoded.drop(['Cabin', 'Ticket', 'Name'], axis=1, inplace=True)\n",
            "<ipython-input-30-cf8d03612b48>:29: SettingWithCopyWarning: \n",
            "A value is trying to be set on a copy of a slice from a DataFrame\n",
            "\n",
            "See the caveats in the documentation: https://pandas.pydata.org/pandas-docs/stable/user_guide/indexing.html#returning-a-view-versus-a-copy\n",
            "  test_data_encoded.drop(['Cabin', 'Ticket', 'Name'], axis=1, inplace=True)\n",
            "<ipython-input-30-cf8d03612b48>:35: SettingWithCopyWarning: \n",
            "A value is trying to be set on a copy of a slice from a DataFrame.\n",
            "Try using .loc[row_indexer,col_indexer] = value instead\n",
            "\n",
            "See the caveats in the documentation: https://pandas.pydata.org/pandas-docs/stable/user_guide/indexing.html#returning-a-view-versus-a-copy\n",
            "  train_data_encoded['FamilySize'] = train_data_encoded['SibSp'] + train_data_encoded['Parch'] + 1\n",
            "<ipython-input-30-cf8d03612b48>:36: SettingWithCopyWarning: \n",
            "A value is trying to be set on a copy of a slice from a DataFrame.\n",
            "Try using .loc[row_indexer,col_indexer] = value instead\n",
            "\n",
            "See the caveats in the documentation: https://pandas.pydata.org/pandas-docs/stable/user_guide/indexing.html#returning-a-view-versus-a-copy\n",
            "  train_data_encoded['IsAlone'] = (train_data_encoded['FamilySize'] == 1).astype(int)\n",
            "<ipython-input-30-cf8d03612b48>:42: SettingWithCopyWarning: \n",
            "A value is trying to be set on a copy of a slice from a DataFrame\n",
            "\n",
            "See the caveats in the documentation: https://pandas.pydata.org/pandas-docs/stable/user_guide/indexing.html#returning-a-view-versus-a-copy\n",
            "  train_data_encoded.drop(['SibSp', 'Parch'], axis=1, inplace=True)\n"
          ]
        }
      ],
      "source": [
        "import pandas as pd\n",
        "from sklearn.preprocessing import LabelEncoder\n",
        "\n",
        "# Load the dataset\n",
        "train_data = pd.read_csv('train.csv')\n",
        "test_data = pd.read_csv('test.csv')\n",
        "\n",
        "# Combine the datasets to ensure consistent encoding\n",
        "combined_data = pd.concat([train_data, test_data], sort=False)\n",
        "\n",
        "# Fill missing values for the combined dataset\n",
        "combined_data['Age'].fillna(combined_data['Age'].median(), inplace=True)\n",
        "combined_data['Embarked'].fillna(combined_data['Embarked'].mode()[0], inplace=True)\n",
        "combined_data['Fare'].fillna(combined_data['Fare'].median(), inplace=True)\n",
        "\n",
        "# Encode categorical variables using the combined data\n",
        "label_encoder_sex = LabelEncoder()\n",
        "combined_data['Sex'] = label_encoder_sex.fit_transform(combined_data['Sex'])\n",
        "\n",
        "label_encoder_embarked = LabelEncoder()\n",
        "combined_data['Embarked'] = label_encoder_embarked.fit_transform(combined_data['Embarked'])\n",
        "\n",
        "# Separate the combined data back into train and test sets\n",
        "train_data_encoded = combined_data[:len(train_data)]\n",
        "test_data_encoded = combined_data[len(train_data):]\n",
        "\n",
        "# Drop irrelevant columns\n",
        "train_data_encoded.drop(['Cabin', 'Ticket', 'Name'], axis=1, inplace=True)\n",
        "test_data_encoded.drop(['Cabin', 'Ticket', 'Name'], axis=1, inplace=True)\n",
        "\n",
        "# Ensure consistent column alignment\n",
        "test_data_encoded = test_data_encoded.drop('Survived', axis=1)\n",
        "\n",
        "# Feature Engineering\n",
        "train_data_encoded['FamilySize'] = train_data_encoded['SibSp'] + train_data_encoded['Parch'] + 1\n",
        "train_data_encoded['IsAlone'] = (train_data_encoded['FamilySize'] == 1).astype(int)\n",
        "\n",
        "test_data_encoded['FamilySize'] = test_data_encoded['SibSp'] + test_data_encoded['Parch'] + 1\n",
        "test_data_encoded['IsAlone'] = (test_data_encoded['FamilySize'] == 1).astype(int)\n",
        "\n",
        "# Drop original SibSp and Parch columns\n",
        "train_data_encoded.drop(['SibSp', 'Parch'], axis=1, inplace=True)\n",
        "test_data_encoded.drop(['SibSp', 'Parch'], axis=1, inplace=True)\n",
        "\n",
        "# Separate features and target for training data\n",
        "X = train_data_encoded.drop('Survived', axis=1)\n",
        "y = train_data_encoded['Survived']\n"
      ]
    },
    {
      "cell_type": "code",
      "source": [
        "from sklearn.model_selection import train_test_split\n",
        "from sklearn.ensemble import RandomForestClassifier\n",
        "from sklearn.metrics import accuracy_score\n",
        "\n",
        "# Split data into training and validation sets\n",
        "X_train, X_val, y_train, y_val = train_test_split(X, y, test_size=0.2, random_state=42)\n",
        "\n",
        "# Train a Random Forest classifier\n",
        "model = RandomForestClassifier(n_estimators=100, random_state=42)\n",
        "model.fit(X_train, y_train)\n",
        "\n",
        "# Evaluate the model\n",
        "y_pred = model.predict(X_val)\n",
        "accuracy = accuracy_score(y_val, y_pred)\n",
        "print(f'Validation Accuracy: {accuracy}')\n",
        "\n",
        "from sklearn.metrics import classification_report, confusion_matrix\n",
        "\n",
        "# Classification report\n",
        "print(classification_report(y_val, y_pred))\n",
        "\n",
        "# Confusion matrix\n",
        "conf_matrix = confusion_matrix(y_val, y_pred)\n",
        "sns.heatmap(conf_matrix, annot=True, fmt='d')\n",
        "plt.title('Confusion Matrix')\n",
        "plt.show()\n"
      ],
      "metadata": {
        "colab": {
          "base_uri": "https://localhost:8080/",
          "height": 634
        },
        "id": "uSww_jlN4z59",
        "outputId": "b157c9b9-3cab-4207-f7aa-3c3736453c70"
      },
      "execution_count": 31,
      "outputs": [
        {
          "output_type": "stream",
          "name": "stdout",
          "text": [
            "Validation Accuracy: 0.8268156424581006\n",
            "              precision    recall  f1-score   support\n",
            "\n",
            "         0.0       0.83      0.89      0.86       105\n",
            "         1.0       0.82      0.74      0.78        74\n",
            "\n",
            "    accuracy                           0.83       179\n",
            "   macro avg       0.83      0.81      0.82       179\n",
            "weighted avg       0.83      0.83      0.83       179\n",
            "\n"
          ]
        },
        {
          "output_type": "display_data",
          "data": {
            "text/plain": [
              "<Figure size 640x480 with 2 Axes>"
            ],
            "image/png": "[encoded data removed]"
          },
          "metadata": {}
        }
      ]
    },
    {
      "cell_type": "code",
      "source": [
        "# # Predict survival on the test data\n",
        "# test_predictions = model.predict(test_data_encoded)\n",
        "\n",
        "# Prepare the submission file\n",
        "submission = pd.DataFrame({\n",
        "    'PassengerId': test_data['PassengerId'],\n",
        "    'Survived': test_predictions\n",
        "})\n",
        "\n",
        "# Save the submission file\n",
        "submission.to_csv('titanic_submission.csv', index=False)\n",
        "\n",
        "print(\"Predictions saved to 'titanic_submission.csv'\")\n",
        "\n"
      ],
      "metadata": {
        "colab": {
          "base_uri": "https://localhost:8080/"
        },
        "id": "1XEEEFEI413e",
        "outputId": "61c7c637-3bbc-4111-faa0-a494be690a01"
      },
      "execution_count": 34,
      "outputs": [
        {
          "output_type": "stream",
          "name": "stdout",
          "text": [
            "Predictions saved to 'titanic_submission.csv'\n"
          ]
        }
      ]
    },
    {
      "cell_type": "code",
      "source": [],
      "metadata": {
        "id": "o_dZulQ0-zZ5"
      },
      "execution_count": null,
      "outputs": []
    }
  ]
}